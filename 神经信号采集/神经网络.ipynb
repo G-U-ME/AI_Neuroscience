{
 "cells": [
  {
   "cell_type": "markdown",
   "metadata": {
    "collapsed": false
   },
   "source": [
    "# 读取数据"
   ]
  },
  {
   "cell_type": "code",
   "execution_count": 1,
   "id": "afc9267a",
   "metadata": {
    "collapsed": false,
    "pycharm": {
     "name": "#%%\n"
    }
   },
   "outputs": [],
   "source": [
    "from scipy.io import loadmat\n",
    "\n",
    "# 读取Person数据\n",
    "OSPerson_dict = {}\n",
    "rawTracePerson_dict = {}\n",
    "for i in range(1, 5):\n",
    "    OSPerson_dict[f'OSPerson{i}'] = loadmat(f'C:\\\\Users\\\\Zhen\\\\Desktop\\\\大学\\\\神经AI\\\\人Task2数据整理\\\\Person{i}\\\\Person{i}\\\\OSPerson{i}.mat')\n",
    "    rawTracePerson_dict[f'rawTracePerson{i}'] = loadmat(f'C:\\\\Users\\\\Zhen\\\\Desktop\\\\大学\\\\神经AI\\\\人Task2数据整理\\\\Person{i}\\\\Person{i}\\\\rawTracePerson{i}.mat')\n",
    "\n",
    "# 读取其他数据\n",
    "ChanName = loadmat('C:\\\\Users\\\\Zhen\\\\Desktop\\\\大学\\\\神经AI\\\\人Task2数据整理\\\\ChanName.mat')\n",
    "Pair54 = loadmat('C:\\\\Users\\\\Zhen\\\\Desktop\\\\大学\\\\神经AI\\\\人Task2数据整理\\\\Pair54.mat')\n",
    "timeRawTrace = loadmat('C:\\\\Users\\\\Zhen\\\\Desktop\\\\大学\\\\神经AI\\\\人Task2数据整理\\\\timeRawTrace.mat')\n"
   ]
  },
  {
   "cell_type": "markdown",
   "id": "0f0e6df4",
   "metadata": {
    "collapsed": false
   },
   "source": [
    "# 打印数据"
   ]
  },
  {
   "cell_type": "code",
   "execution_count": 2,
   "id": "a32ffafd",
   "metadata": {
    "collapsed": false,
    "pycharm": {
     "name": "#%%\n"
    }
   },
   "outputs": [
    {
     "name": "stdout",
     "output_type": "stream",
     "text": [
      "(36, 52, 40, 54)\n",
      "(16, 9, 40, 54)\n",
      "[[  3.0713716 ]\n",
      " [  3.29181458]\n",
      " [  3.52807951]\n",
      " [  3.78130199]\n",
      " [  4.05269913]\n",
      " [  4.34357537]\n",
      " [  4.65532882]\n",
      " [  4.98945789]\n",
      " [  5.34756856]\n",
      " [  5.73138207]\n",
      " [  6.1427432 ]\n",
      " [  6.58362915]\n",
      " [  7.05615901]\n",
      " [  7.56260398]\n",
      " [  8.10539825]\n",
      " [  8.68715075]\n",
      " [  9.31065764]\n",
      " [  9.97891578]\n",
      " [ 10.69513711]\n",
      " [ 11.46276414]\n",
      " [ 12.28548641]\n",
      " [ 13.16725831]\n",
      " [ 14.11231803]\n",
      " [ 15.12520796]\n",
      " [ 16.2107965 ]\n",
      " [ 17.3743015 ]\n",
      " [ 18.62131528]\n",
      " [ 19.95783155]\n",
      " [ 21.39027423]\n",
      " [ 22.92552827]\n",
      " [ 24.57097282]\n",
      " [ 26.33451661]\n",
      " [ 28.22463605]\n",
      " [ 30.25041591]\n",
      " [ 32.42159301]\n",
      " [ 34.748603  ]\n",
      " [ 37.24263055]\n",
      " [ 39.9156631 ]\n",
      " [ 42.78054845]\n",
      " [ 45.85105654]\n",
      " [ 49.14194563]\n",
      " [ 52.66903322]\n",
      " [ 56.44927211]\n",
      " [ 60.50083182]\n",
      " [ 64.84318601]\n",
      " [ 69.49720599]\n",
      " [ 74.4852611 ]\n",
      " [ 79.8313262 ]\n",
      " [ 85.5610969 ]\n",
      " [ 91.70211308]\n",
      " [ 98.28389126]\n",
      " [105.33806645]]\n"
     ]
    }
   ],
   "source": [
    "print(OSPerson_dict['OSPerson1']['OS'].shape)\n",
    "print(OSPerson_dict[f'OSPerson1']['OS'][-21:-5, 4:13, :, :].shape)\n",
    "print(OSPerson_dict['OSPerson1']['fOS'])"
   ]
  },
  {
   "cell_type": "markdown",
   "id": "4774e7bb",
   "metadata": {
    "collapsed": false
   },
   "source": [
    "# 导入确定性pytorch神经网络框架&CUDA"
   ]
  },
  {
   "cell_type": "code",
   "execution_count": 3,
   "id": "fe2c8141",
   "metadata": {
    "collapsed": false,
    "pycharm": {
     "name": "#%%\n"
    }
   },
   "outputs": [],
   "source": [
    "import os\n",
    "os.environ['CUBLAS_WORKSPACE_CONFIG'] = ':4096:8'  # 或者 ':16:8'\n",
    "\n",
    "from torch.utils.data import Dataset, DataLoader\n",
    "import torch\n",
    "import torch.nn as nn\n",
    "import torch.optim as optim\n",
    "\n",
    "def init_weights(m):\n",
    "    if type(m) == nn.Linear:\n",
    "        nn.init.xavier_normal_(m.weight)\n",
    "\n",
    "class MyCustomDataset(Dataset):\n",
    "    def __init__(self, features, labels):\n",
    "        self.features = features\n",
    "        self.labels = labels\n",
    "\n",
    "    def __len__(self):\n",
    "        return len(self.labels)\n",
    "\n",
    "    def __getitem__(self, idx):\n",
    "        feature_tensor = torch.tensor(self.features[idx], dtype=torch.float32)\n",
    "        label_tensor = torch.tensor(self.labels[idx], dtype=torch.long)\n",
    "        return feature_tensor, label_tensor\n",
    "\n",
    "class MyNeuralNetwork(nn.Module):\n",
    "    def __init__(self, input_size, hidden_size, num_classes, dropout_rate):\n",
    "        super(MyNeuralNetwork, self).__init__()\n",
    "        # 定义网络层\n",
    "        self.layer1 = nn.Linear(input_size, hidden_size)\n",
    "        self.relu = nn.ReLU()\n",
    "        self.dropout = nn.Dropout(dropout_rate)\n",
    "        self.layer2 = nn.Linear(hidden_size, num_classes)\n",
    "        # 应用权重初始化\n",
    "        self.apply(init_weights)\n",
    "\n",
    "    def forward(self, x):\n",
    "        # 定义前向传播\n",
    "        x = self.layer1(x)\n",
    "        x = self.relu(x)\n",
    "        x = self.dropout(x)\n",
    "        x = self.layer2(x)\n",
    "        return x"
   ]
  },
  {
   "cell_type": "code",
   "execution_count": 4,
   "id": "f8249e74",
   "metadata": {
    "collapsed": false,
    "pycharm": {
     "name": "#%%\n"
    }
   },
   "outputs": [
    {
     "name": "stdout",
     "output_type": "stream",
     "text": [
      "CUDA is available!\n"
     ]
    }
   ],
   "source": [
    "# 检查CUDA是否可用\n",
    "if torch.cuda.is_available():\n",
    "    print(\"CUDA is available!\")\n",
    "else:\n",
    "    print(\"CUDA is not available. Running on CPU instead.\")\n",
    "\n",
    "device = torch.device(\"cuda\" if torch.cuda.is_available() else \"cpu\")"
   ]
  },
  {
   "cell_type": "markdown",
   "id": "dbb05205",
   "metadata": {
    "collapsed": false
   },
   "source": [
    "# 设置随机种子"
   ]
  },
  {
   "cell_type": "code",
   "execution_count": 5,
   "id": "a2bc87ab",
   "metadata": {
    "collapsed": false,
    "pycharm": {
     "name": "#%%\n"
    }
   },
   "outputs": [],
   "source": [
    "torch.manual_seed(42)  # 设置CPU生成随机数的种子\n",
    "\n",
    "if torch.cuda.is_available():\n",
    "    torch.cuda.manual_seed(42)  # 设置GPU生成随机数的种子\n",
    "    torch.cuda.manual_seed_all(42)  # 设置所有GPU的随机种子\n",
    "\n",
    "import numpy as np\n",
    "np.random.seed(42)  # 设置NumPy生成随机数的种子\n",
    "\n",
    "import random\n",
    "random.seed(42)  # 设置Python内建random库的种子\n",
    "\n",
    "torch.backends.cudnn.deterministic = True\n",
    "\n",
    "torch.backends.cudnn.benchmark = False"
   ]
  },
  {
   "cell_type": "markdown",
   "id": "923e7a8a",
   "metadata": {
    "collapsed": false
   },
   "source": [
    "# 1. 分类任务"
   ]
  },
  {
   "cell_type": "markdown",
   "id": "ec105854",
   "metadata": {
    "collapsed": false
   },
   "source": [
    "## 1. 多分类"
   ]
  },
  {
   "cell_type": "code",
   "execution_count": 28,
   "id": "e29be814",
   "metadata": {},
   "outputs": [],
   "source": [
    "from sklearn.model_selection import train_test_split"
   ]
  },
  {
   "cell_type": "markdown",
   "id": "ea59387f",
   "metadata": {
    "collapsed": false
   },
   "source": [
    "####  0. 统计图片"
   ]
  },
  {
   "cell_type": "code",
   "execution_count": null,
   "id": "f60c873d",
   "metadata": {
    "collapsed": false,
    "pycharm": {
     "name": "#%%\n"
    }
   },
   "outputs": [],
   "source": [
    "print(OSPerson_dict['OSPerson1']['Track'][0])\n",
    "print(OSPerson_dict['OSPerson2']['Track'][0])\n",
    "print(OSPerson_dict['OSPerson3']['Track'][0])\n",
    "print(OSPerson_dict['OSPerson4']['Track'][0])\n",
    "track_list = np.concatenate(\n",
    "    (OSPerson_dict['OSPerson1']['Track'][0], \n",
    "    OSPerson_dict['OSPerson2']['Track'][0], \n",
    "    OSPerson_dict['OSPerson3']['Track'][0], \n",
    "    OSPerson_dict['OSPerson4']['Track'][0]), \n",
    "    axis = 0\n",
    ")\n",
    "from collections import Counter\n",
    "count = Counter(track_list)\n",
    "print(count)\n",
    "good_list = {5:1, 2:2, 10:3, 8:4, 18:5, 12:6, 9:7, 13:8, 7:9}\n",
    "reversed_good_list = {value: key for key, value in good_list.items()}"
   ]
  },
  {
   "cell_type": "markdown",
   "id": "8fcda06f",
   "metadata": {
    "collapsed": false
   },
   "source": [
    "### 1. 3秒，全通道, 20Hz+\n",
    "#### 1. 数据处理"
   ]
  },
  {
   "cell_type": "code",
   "execution_count": null,
   "id": "0978cb9f",
   "metadata": {
    "collapsed": false,
    "pycharm": {
     "name": "#%%\n"
    }
   },
   "outputs": [],
   "source": [
    "# 数据预处理\n",
    "data_reshaped_all_1_1 = np.zeros((0, 20736))\n",
    "# 16x24x54 =20736\n",
    "labels_all_1_1 = np.array([])\n",
    "for i in range(1, 5):\n",
    "    data_1_1 = OSPerson_dict[f'OSPerson{i}']['OS'][-21:-5, 28:, :, :]\n",
    "\n",
    "    # 首先使用transpose调整维度顺序\n",
    "    data_transposed_1_1 = np.transpose(data_1_1, (2, 0, 1, 3))  # 将第三维（大小为40的维度）移到最前面\n",
    "    # 然后将其余维度合并为一维\n",
    "    data_reshaped_1_1 = data_transposed_1_1.reshape(data_transposed_1_1.shape[0], -1)  # 重塑数据为二维数组\n",
    "    print(data_reshaped_1_1.shape)\n",
    "    \n",
    "    data_reshaped_all_1_1 = np.concatenate((data_reshaped_all_1_1, data_reshaped_1_1), axis=0)\n",
    "    print(data_reshaped_all_1_1.shape)\n",
    "    \n",
    "    # 创建标签数组x\n",
    "    labels_1_1 = np.array([good_list[x] if x in good_list else 0 for x in OSPerson_dict[f'OSPerson{i}']['Track'][0]])\n",
    "    labels_all_1_1 = np.concatenate((labels_all_1_1, labels_1_1), axis=0)\n",
    "    print(labels_all_1_1.shape)\n",
    "\n",
    "labels_all_1_1 = labels_all_1_1.astype(np.int32, copy=False)\n",
    "\n",
    "train_features, test_features, train_labels, test_labels = train_test_split(\n",
    "    data_reshaped_all_1_1, labels_all_1_1, test_size = 0.2, random_state = 42, stratify = labels_all_1_1\n",
    ")"
   ]
  },
  {
   "cell_type": "markdown",
   "id": "5392065c",
   "metadata": {
    "collapsed": false
   },
   "source": [
    "#### 训练模型\n",
    "##### 1. 网格搜索最优参数"
   ]
  },
  {
   "cell_type": "code",
   "execution_count": null,
   "id": "27211a7c",
   "metadata": {
    "collapsed": false,
    "pycharm": {
     "name": "#%%\n"
    }
   },
   "outputs": [],
   "source": [
    "train_dataset_1_1 = MyCustomDataset(train_features, train_labels)\n",
    "\n",
    "test_dataset_1_1 = MyCustomDataset(test_features, test_labels)\n",
    "test_loader_1_1 = DataLoader(test_dataset_1_1, batch_size = 20, shuffle = False)\n",
    "\n",
    "# 初始化网络\n",
    "input_size_1_1 = 20736 # 特征数量\n",
    "num_classes_1_1 = 10 # 类别数量\n",
    "\n",
    "\n",
    "# 定义参数网格\n",
    "param_grid_1_1 = {\n",
    "    'lr': [0.001, 0.002, 0.005, 0.01, 0.02, 0.05, 0.1],\n",
    "    'hidden_size': [128, 256, 512, 1024],\n",
    "    'batch_size': [10, 20, 30, 40, 50],\n",
    "    'num_epochs': [3, 5, 7, 9], # 训练的轮数\n",
    "    'dropout_rate': [0.1, 0.2, 0.3, 0.4, 0.5], \n",
    "    'weight_decay': [0.00001, 0.00005, 0.0001, 0.0005, 0.001]\n",
    "}\n",
    "\n",
    "# 用于记录最佳验证损失\n",
    "best_loss = float('inf')\n",
    "best_params = {}\n",
    "\n",
    "# 网格搜索\n",
    "for lr in param_grid_1_1['lr']:\n",
    "    for hidden_size in param_grid_1_1['hidden_size']:\n",
    "        for batch_size in param_grid_1_1['batch_size']:\n",
    "            for num_epochs in param_grid_1_1['num_epochs']:\n",
    "                for dropout_rate in param_grid_1_1['dropout_rate']:\n",
    "                    for weight_decay in param_grid_1_1['weight_decay']:\n",
    "                        print(\n",
    "                            f'Testing with lr = {lr},'\n",
    "                            f'hidden_size = {hidden_size},'\n",
    "                            f'batch_size = {batch_size},'\n",
    "                            f'num_epochs = {num_epochs},'\n",
    "                            f'dropout_rate = {dropout_rate},'\n",
    "                            f'weight_decay = {weight_decay}'\n",
    "                        )\n",
    "                        \n",
    "                        # 初始化网络、损失函数、优化器、加载训练数据\n",
    "                        model = MyNeuralNetwork(input_size_1_1, hidden_size, num_classes_1_1, dropout_rate).to(device)\n",
    "                        criterion = nn.CrossEntropyLoss()\n",
    "                        optimizer = optim.Adam(model.parameters(), lr = lr, weight_decay = weight_decay)\n",
    "                        train_loader_1_1 = DataLoader(train_dataset_1_1, batch_size = batch_size, shuffle = False)\n",
    "            \n",
    "                        # 训练网络\n",
    "                        for epoch in range(num_epochs):\n",
    "                            for features, labels in train_loader_1_1:\n",
    "                                features, labels = features.to(device), labels.to(device)\n",
    "                                # 清空梯度\n",
    "                                optimizer.zero_grad()\n",
    "                                # 前向传播\n",
    "                                outputs = model(features)\n",
    "                                # 计算损失\n",
    "                                loss = criterion(outputs, labels)\n",
    "                                # 反向传播\n",
    "                                loss.backward()\n",
    "                                # 更新权重\n",
    "                                optimizer.step()\n",
    "                            print(f\"Epoch[{epoch+1}/{num_epochs}], Loss:{loss.item():.4f}\")\n",
    "            \n",
    "                        # 评估模型\n",
    "                        model.eval()\n",
    "                        val_loss = 0.0\n",
    "                        with torch.no_grad():\n",
    "                            for features, labels in test_loader_1_1:\n",
    "                                features, labels = features.to(device), labels.to(device)\n",
    "                                outputs = model(features)\n",
    "                                loss = criterion(outputs, labels)\n",
    "                                val_loss += loss.item()\n",
    "            \n",
    "                        # 记录最佳参数\n",
    "                        if val_loss < best_loss:\n",
    "                            best_loss = val_loss\n",
    "                            best_params = {\n",
    "                                'lr': lr, \n",
    "                                'hidden_size': hidden_size, \n",
    "                                'batch_size': batch_size, \n",
    "                                'num_epochs': num_epochs, \n",
    "                                'dropout_rate': dropout_rate, \n",
    "                                'weight_decay': weight_decay\n",
    "                            }\n",
    "                            print(f\"New best params: {best_params}\")\n",
    "\n",
    "print(f\"Best loss: {best_loss} with params: {best_params}\")"
   ]
  },
  {
   "cell_type": "markdown",
   "id": "64a3fef7",
   "metadata": {
    "collapsed": false
   },
   "source": [
    "##### 2. 训练评估模型"
   ]
  },
  {
   "cell_type": "code",
   "execution_count": null,
   "id": "d32ffd8d",
   "metadata": {
    "collapsed": false,
    "pycharm": {
     "name": "#%%\n"
    }
   },
   "outputs": [],
   "source": [
    "# 使用最佳参数重新训练模型\n",
    "best_lr = best_params['lr']\n",
    "best_hidden_size = best_params['hidden_size']\n",
    "best_batch_size = best_params['batch_size']\n",
    "best_num_epochs = best_params['num_epochs']\n",
    "best_dropout_rate = best_params['dropout_rate']\n",
    "best_weight_decay = best_params['weight_decay']\n",
    "\n",
    "best_accuracy = 0\n",
    "for i in range(1000):\n",
    "    # 重新初始化网络、损失函数、优化器\n",
    "    model_1_1 = MyNeuralNetwork(input_size_1_1, best_hidden_size, num_classes_1_1, best_dropout_rate).to(device)\n",
    "    criterion = nn.CrossEntropyLoss()\n",
    "    optimizer = optim.Adam(model_1_1.parameters(), lr = best_lr, weight_decay = best_weight_decay)\n",
    "\n",
    "    # 使用最佳批量大小更新 DataLoader\n",
    "    train_loader_1_1 = DataLoader(train_dataset_1_1, batch_size = best_batch_size, shuffle = False)\n",
    "    test_loader_1_1 = DataLoader(test_dataset_1_1, batch_size = 20, shuffle = False)\n",
    "\n",
    "    # 然后使用更新后的参数重新执行训练和测试代码\n",
    "    for epoch in range(best_num_epochs):\n",
    "        for features, labels in train_loader_1_1:\n",
    "            features, labels = features.to(device), labels.to(device)\n",
    "            # 清空梯度\n",
    "            optimizer.zero_grad()\n",
    "            # 前向传播\n",
    "            outputs = model_1_1(features)\n",
    "            # 计算损失\n",
    "            loss = criterion(outputs, labels)\n",
    "            # 反向传播\n",
    "            loss.backward()\n",
    "            # 更新权重\n",
    "            optimizer.step()\n",
    "        print(f\"Epoch[{epoch+1}/{best_num_epochs}], Loss:{loss.item():.4f}\")\n",
    "\n",
    "\n",
    "    # 评估模型\n",
    "    model_1_1.eval()\n",
    "    with torch.no_grad():\n",
    "        correct = 0\n",
    "        total = 0\n",
    "        for features, labels in test_loader_1_1:\n",
    "            features, labels = features.to(device), labels.to(device)\n",
    "            outputs = model_1_1(features)\n",
    "            _, predicted = torch.max(outputs.data, 1)\n",
    "            total += labels.size(0)\n",
    "            correct += (predicted == labels).sum().item()\n",
    "        accuracy = 100 * correct / total\n",
    "\n",
    "    print(f'Accuracy of the network on the test data: {accuracy}%')\n",
    "\n",
    "    if accuracy > best_accuracy:\n",
    "        best_accuracy = accuracy\n",
    "        # 将模型转移至CPU保存\n",
    "        model_1_1.to('cpu')\n",
    "        model_1_1_path = 'C:\\\\Users\\\\Zhen\\\\Desktop\\\\大学\\\\神经AI\\\\model_1_3s_fullchannel_20Hz+.pth'\n",
    "        torch.save(model_1_1, model_1_1_path)\n",
    "print(best_accuracy)"
   ]
  },
  {
   "cell_type": "markdown",
   "id": "6880f6af",
   "metadata": {
    "collapsed": false
   },
   "source": [
    "#### 加载使用模型\n",
    "##### 1. 加载模型"
   ]
  },
  {
   "cell_type": "code",
   "execution_count": null,
   "id": "2aab8409",
   "metadata": {
    "collapsed": false,
    "pycharm": {
     "name": "#%%\n"
    }
   },
   "outputs": [],
   "source": [
    "model_1_1_path = 'C:\\\\Users\\\\Zhen\\\\Desktop\\\\大学\\\\神经AI\\\\model_1_3s_fullchannel_20Hz+.pth'\n",
    "model_1_1 = torch.load(model_1_1_path)"
   ]
  },
  {
   "cell_type": "markdown",
   "id": "5f70b660",
   "metadata": {
    "collapsed": false
   },
   "source": [
    "##### 用测试集评估模型"
   ]
  },
  {
   "cell_type": "code",
   "execution_count": null,
   "id": "03012808",
   "metadata": {
    "collapsed": false,
    "pycharm": {
     "name": "#%%\n"
    }
   },
   "outputs": [],
   "source": [
    "test_dataset_1_1 = MyCustomDataset(test_features, test_labels)\n",
    "test_loader_1_1 = DataLoader(test_dataset_1_1, batch_size = 20, shuffle = False)\n",
    "model_1_1.eval()\n",
    "with torch.no_grad():\n",
    "    correct = 0\n",
    "    total = 0\n",
    "    for features, labels in test_loader_1_1:\n",
    "        outputs = model_1_1(features)\n",
    "        _, predicted = torch.max(outputs.data, 1)\n",
    "        total += labels.size(0)\n",
    "        correct += (predicted == labels).sum().item()\n",
    "print(f'Accuracy of the network on the test data: {100 * correct / total}%')"
   ]
  },
  {
   "cell_type": "markdown",
   "id": "cd0fc467",
   "metadata": {
    "collapsed": false
   },
   "source": [
    "##### 预测新数据（对新数据进行分类）"
   ]
  },
  {
   "cell_type": "code",
   "execution_count": null,
   "id": "17d86412",
   "metadata": {
    "collapsed": false,
    "pycharm": {
     "name": "#%%\n"
    }
   },
   "outputs": [],
   "source": [
    "feature_1_1 = '替换成输入的数据'\n",
    "# feature需要是一个包含20736个数的numpy数组\n",
    "\n",
    "model_1_1.eval()\n",
    "with torch.no_grad():\n",
    "    outputs = model_1_1(feature_1_1)\n",
    "    _, predicted = torch.max(outputs.data, 1)\n",
    "\n",
    "if predicted == 0:\n",
    "    print(\"else\")\n",
    "else:\n",
    "    print(reversed_good_list[predicted])"
   ]
  },
  {
   "cell_type": "markdown",
   "id": "cdc3872a",
   "metadata": {
    "collapsed": false
   },
   "source": [
    "### 2. 3秒，全通道，θ波段\n",
    "#### 1. 数据处理"
   ]
  },
  {
   "cell_type": "code",
   "execution_count": null,
   "id": "034ab2d4",
   "metadata": {
    "collapsed": false,
    "pycharm": {
     "name": "#%%\n"
    }
   },
   "outputs": [],
   "source": [
    "# 数据预处理\n",
    "data_reshaped_all_1_2 = np.zeros((0, 7776))\n",
    "# 16x9x54 = 7776\n",
    "labels_all_1_2 = np.array([])\n",
    "for i in range(1, 5):\n",
    "    data_1_2 = OSPerson_dict[f'OSPerson{i}']['OS'][-21:-5, 4:13, :, :]\n",
    "\n",
    "    # 首先使用transpose调整维度顺序\n",
    "    data_transposed_1_2 = np.transpose(data_1_2, (2, 0, 1, 3))  # 将第三维（大小为40的维度）移到最前面\n",
    "    # 然后将其余维度合并为一维\n",
    "    data_reshaped_1_2 = data_transposed_1_2.reshape(data_transposed_1_2.shape[0], -1)  # 重塑数据为二维数组\n",
    "    print(data_reshaped_1_2.shape)\n",
    "    \n",
    "    data_reshaped_all_1_2 = np.concatenate((data_reshaped_all_1_2, data_reshaped_1_2), axis=0)\n",
    "    print(data_reshaped_all_1_2.shape)\n",
    "    \n",
    "    # 创建标签数组x\n",
    "    labels_1_2 = np.array([good_list[x] if x in good_list else 0 for x in OSPerson_dict[f'OSPerson{i}']['Track'][0]])\n",
    "    labels_all_1_2 = np.concatenate((labels_all_1_2, labels_1_2), axis=0)\n",
    "    print(labels_all_1_2.shape)\n",
    "\n",
    "labels_all_1_2 = labels_all_1_2.astype(np.int32, copy=False)\n",
    "\n",
    "train_features, test_features, train_labels, test_labels = train_test_split(\n",
    "    data_reshaped_all_1_2, labels_all_1_2, test_size = 0.2, random_state = 42, stratify = labels_all_1_2\n",
    ")"
   ]
  },
  {
   "cell_type": "markdown",
   "id": "99c003a3",
   "metadata": {
    "collapsed": false
   },
   "source": [
    "#### 训练模型\n",
    "##### 1. 网格搜索最优参数"
   ]
  },
  {
   "cell_type": "code",
   "execution_count": null,
   "id": "60befa18",
   "metadata": {
    "collapsed": false,
    "pycharm": {
     "name": "#%%\n"
    }
   },
   "outputs": [],
   "source": [
    "train_dataset_1_2 = MyCustomDataset(train_features, train_labels)\n",
    "\n",
    "test_dataset_1_2 = MyCustomDataset(test_features, test_labels)\n",
    "test_loader_1_2 = DataLoader(test_dataset_1_2, batch_size = 20, shuffle = False)\n",
    "\n",
    "# 初始化网络\n",
    "input_size_1_2 = 7776 # 特征数量\n",
    "num_classes_1_2 = 10 # 类别数量\n",
    "\n",
    "\n",
    "# 定义参数网格\n",
    "param_grid_1_2 = {\n",
    "    'lr': [0.001, 0.002, 0.005, 0.01, 0.02, 0.05, 0.1],\n",
    "    'hidden_size': [128, 256, 512, 1024],\n",
    "    'batch_size': [10, 20, 30, 40, 50],\n",
    "    'num_epochs': [3, 5, 7, 9], # 训练的轮数\n",
    "    'dropout_rate': [0.1, 0.2, 0.3, 0.4, 0.5], \n",
    "    'weight_decay': [0.00001, 0.00005, 0.0001, 0.0005, 0.001]\n",
    "}\n",
    "\n",
    "# 用于记录最佳验证损失\n",
    "best_loss = float('inf')\n",
    "best_params = {}\n",
    "\n",
    "# 网格搜索\n",
    "for lr in param_grid_1_2['lr']:\n",
    "    for hidden_size in param_grid_1_2['hidden_size']:\n",
    "        for batch_size in param_grid_1_2['batch_size']:\n",
    "            for num_epochs in param_grid_1_2['num_epochs']:\n",
    "                for dropout_rate in param_grid_1_2['dropout_rate']:\n",
    "                    for weight_decay in param_grid_1_2['weight_decay']:\n",
    "                        print(\n",
    "                            f'Testing with lr = {lr},'\n",
    "                            f'hidden_size = {hidden_size},'\n",
    "                            f'batch_size = {batch_size},'\n",
    "                            f'num_epochs = {num_epochs},'\n",
    "                            f'dropout_rate = {dropout_rate},'\n",
    "                            f'weight_decay = {weight_decay}'\n",
    "                        )\n",
    "                        \n",
    "                        # 初始化网络、损失函数、优化器、加载训练数据\n",
    "                        model = MyNeuralNetwork(input_size_1_2, hidden_size, num_classes_1_2, dropout_rate).to(device)\n",
    "                        criterion = nn.CrossEntropyLoss()\n",
    "                        optimizer = optim.Adam(model.parameters(), lr = lr, weight_decay = weight_decay)\n",
    "                        train_loader_1_2 = DataLoader(train_dataset_1_2, batch_size = batch_size, shuffle = False)\n",
    "            \n",
    "                        # 训练网络\n",
    "                        for epoch in range(num_epochs):\n",
    "                            for features, labels in train_loader_1_2:\n",
    "                                features, labels = features.to(device), labels.to(device)\n",
    "                                # 清空梯度\n",
    "                                optimizer.zero_grad()\n",
    "                                # 前向传播\n",
    "                                outputs = model(features)\n",
    "                                # 计算损失\n",
    "                                loss = criterion(outputs, labels)\n",
    "                                # 反向传播\n",
    "                                loss.backward()\n",
    "                                # 更新权重\n",
    "                                optimizer.step()\n",
    "                            print(f\"Epoch[{epoch+1}/{num_epochs}], Loss:{loss.item():.4f}\")\n",
    "            \n",
    "                        # 评估模型\n",
    "                        model.eval()\n",
    "                        val_loss = 0.0\n",
    "                        with torch.no_grad():\n",
    "                            for features, labels in test_loader_1_2:\n",
    "                                features, labels = features.to(device), labels.to(device)\n",
    "                                outputs = model(features)\n",
    "                                loss = criterion(outputs, labels)\n",
    "                                val_loss += loss.item()\n",
    "            \n",
    "                        # 记录最佳参数\n",
    "                        if val_loss < best_loss:\n",
    "                            best_loss = val_loss\n",
    "                            best_params = {\n",
    "                                'lr': lr, \n",
    "                                'hidden_size': hidden_size, \n",
    "                                'batch_size': batch_size, \n",
    "                                'num_epochs': num_epochs, \n",
    "                                'dropout_rate': dropout_rate, \n",
    "                                'weight_decay': weight_decay\n",
    "                            }\n",
    "                            print(f\"New best params: {best_params}\")\n",
    "\n",
    "print(f\"Best loss: {best_loss} with params: {best_params}\")"
   ]
  },
  {
   "cell_type": "markdown",
   "id": "582538c2",
   "metadata": {
    "collapsed": false
   },
   "source": [
    "##### 2. 训练评估模型"
   ]
  },
  {
   "cell_type": "code",
   "execution_count": null,
   "id": "85f2f432",
   "metadata": {
    "collapsed": false,
    "pycharm": {
     "name": "#%%\n"
    }
   },
   "outputs": [],
   "source": [
    "# 使用最佳参数重新训练模型\n",
    "best_lr = best_params['lr']\n",
    "best_hidden_size = best_params['hidden_size']\n",
    "best_batch_size = best_params['batch_size']\n",
    "best_num_epochs = best_params['num_epochs']\n",
    "best_dropout_rate = best_params['dropout_rate']\n",
    "best_weight_decay = best_params['weight_decay']\n",
    "\n",
    "best_accuracy = 0\n",
    "# 用最佳参数重复训练模型记录并最佳结果\n",
    "# 也可以设置预期结果来循环达到\n",
    "for i in range(5000):\n",
    "    # 重新初始化网络、损失函数、优化器\n",
    "    model_1_2 = MyNeuralNetwork(input_size_1_2, best_hidden_size, num_classes_1_2, best_dropout_rate).to(device)\n",
    "    criterion = nn.CrossEntropyLoss()\n",
    "    optimizer = optim.Adam(model_1_2.parameters(), lr = best_lr, weight_decay = best_weight_decay)\n",
    "\n",
    "    # 使用最佳批量大小更新 DataLoader\n",
    "    train_loader_1_2 = DataLoader(train_dataset_1_2, batch_size = best_batch_size, shuffle = False)\n",
    "    test_loader_1_2 = DataLoader(test_dataset_1_2, batch_size = 20, shuffle = False)\n",
    "\n",
    "    # 然后使用更新后的参数重新执行训练和测试代码\n",
    "    for epoch in range(best_num_epochs):\n",
    "        for features, labels in train_loader_1_2:\n",
    "            features, labels = features.to(device), labels.to(device)\n",
    "            # 清空梯度\n",
    "            optimizer.zero_grad()\n",
    "            # 前向传播\n",
    "            outputs = model_1_2(features)\n",
    "            # 计算损失\n",
    "            loss = criterion(outputs, labels)\n",
    "            # 反向传播\n",
    "            loss.backward()\n",
    "            # 更新权重\n",
    "            optimizer.step()\n",
    "        print(f\"Epoch[{epoch+1}/{best_num_epochs}], Loss:{loss.item():.4f}\")\n",
    "\n",
    "\n",
    "    # 评估模型\n",
    "    model_1_2.eval()\n",
    "    with torch.no_grad():\n",
    "        correct = 0\n",
    "        total = 0\n",
    "        for features, labels in test_loader_1_2:\n",
    "            features, labels = features.to(device), labels.to(device)\n",
    "            outputs = model_1_2(features)\n",
    "            _, predicted = torch.max(outputs.data, 1)\n",
    "            total += labels.size(0)\n",
    "            correct += (predicted == labels).sum().item()\n",
    "            accuracy = 100 * correct / total\n",
    "\n",
    "    print(f'Accuracy of the network on the test data: {accuracy}%')\n",
    "\n",
    "    if accuracy > best_accuracy:\n",
    "        best_accuracy = accuracy\n",
    "    \n",
    "        # 将模型转移至CPU保存\n",
    "        model_1_2.to('cpu')\n",
    "        model_1_2_path = 'C:\\\\Users\\\\Zhen\\\\Desktop\\\\大学\\\\神经AI\\\\model_1_3s_fullchannel_theta.pth'\n",
    "        torch.save(model_1_2, model_1_2_path)\n",
    "print(f'the best accuracy: {best_accuracy}')"
   ]
  },
  {
   "cell_type": "markdown",
   "id": "6c01d847",
   "metadata": {
    "collapsed": false
   },
   "source": [
    "#### 加载使用模型\n",
    "##### 1. 加载模型"
   ]
  },
  {
   "cell_type": "code",
   "execution_count": null,
   "id": "7ad03fd3",
   "metadata": {
    "collapsed": false,
    "pycharm": {
     "name": "#%%\n"
    }
   },
   "outputs": [],
   "source": [
    "model_1_2_path = 'C:\\\\Users\\\\Zhen\\\\Desktop\\\\大学\\\\神经AI\\\\model_1_3s_fullchannel_theta.pth'\n",
    "model_1_2 = torch.load(model_1_2_path)"
   ]
  },
  {
   "cell_type": "markdown",
   "id": "15674155",
   "metadata": {
    "collapsed": false
   },
   "source": [
    "##### 用测试集评估模型"
   ]
  },
  {
   "cell_type": "code",
   "execution_count": null,
   "id": "6bff336d",
   "metadata": {
    "collapsed": false,
    "pycharm": {
     "name": "#%%\n"
    }
   },
   "outputs": [],
   "source": [
    "test_dataset_1_2 = MyCustomDataset(test_features, test_labels)\n",
    "test_loader_1_2 = DataLoader(test_dataset_1_2, batch_size = 20, shuffle = False)\n",
    "model_1_2.eval()\n",
    "with torch.no_grad():\n",
    "    correct = 0\n",
    "    total = 0\n",
    "    for features, labels in test_loader_1_2:\n",
    "        outputs = model_1_2(features)\n",
    "        _, predicted = torch.max(outputs.data, 1)\n",
    "        total += labels.size(0)\n",
    "        correct += (predicted == labels).sum().item()\n",
    "print(f'Accuracy of the network on the test data: {100 * correct / total}%')"
   ]
  },
  {
   "cell_type": "markdown",
   "id": "b12d79e9",
   "metadata": {
    "collapsed": false
   },
   "source": [
    "##### 预测新数据（对新数据进行分类）"
   ]
  },
  {
   "cell_type": "code",
   "execution_count": null,
   "id": "0e122ff1",
   "metadata": {
    "collapsed": false,
    "pycharm": {
     "name": "#%%\n"
    }
   },
   "outputs": [],
   "source": [
    "feature_1_2 = '替换成输入的数据'\n",
    "#feature需要是一个包含7776个数的numpy数组\n",
    "\n",
    "model_1_2.eval()\n",
    "with torch.no_grad():\n",
    "    outputs = model_1_2(feature_1_2)\n",
    "    _, predicted = torch.max(outputs.data, 1)\n",
    "\n",
    "if predicted == 0:\n",
    "    print(\"else\")\n",
    "else:\n",
    "    print(reversed_good_list[predicted])"
   ]
  },
  {
   "cell_type": "markdown",
   "id": "b318c3ee",
   "metadata": {
    "collapsed": false
   },
   "source": [
    "## 2. 二分类\n",
    "### 1. 3秒，全通道, 20Hz+\n",
    "#### 1. 数据处理"
   ]
  },
  {
   "cell_type": "code",
   "execution_count": 30,
   "id": "70583182",
   "metadata": {
    "collapsed": false,
    "pycharm": {
     "name": "#%%\n"
    }
   },
   "outputs": [
    {
     "name": "stdout",
     "output_type": "stream",
     "text": [
      "(40, 20736)\n",
      "(40, 20736)\n",
      "(40,)\n",
      "(10, 20736)\n",
      "(50, 20736)\n",
      "(50,)\n",
      "(40, 20736)\n",
      "(90, 20736)\n",
      "(90,)\n",
      "(10, 20736)\n",
      "(100, 20736)\n",
      "(100,)\n"
     ]
    }
   ],
   "source": [
    "# 数据预处理\n",
    "data_reshaped_all_2_1 = np.zeros((0, 20736))\n",
    "labels_all_2_1 = np.array([])\n",
    "for i in range(1, 5):\n",
    "    data_2_1 = OSPerson_dict[f'OSPerson{i}']['OS'][-21:-5, 28:, :, :]\n",
    "\n",
    "    # 首先使用transpose调整维度顺序\n",
    "    data_transposed_2_1 = np.transpose(data_2_1, (2, 0, 1, 3))  # 将第三维（大小为40的维度）移到最前面\n",
    "    # 然后将其余维度合并为一维\n",
    "    data_reshaped_2_1 = data_transposed_2_1.reshape(data_transposed_2_1.shape[0], -1)  # 重塑数据为二维数组\n",
    "    print(data_reshaped_2_1.shape)\n",
    "    # 16x24x54 =20736\n",
    "    data_reshaped_all_2_1 = np.concatenate((data_reshaped_all_2_1, data_reshaped_2_1), axis=0)\n",
    "    print(data_reshaped_all_2_1.shape)\n",
    "    \n",
    "    # 创建标签数组x\n",
    "    labels_2_1 = np.array([0 if x > 10 else 1 for x in OSPerson_dict[f'OSPerson{i}']['Track'][0]])\n",
    "    labels_all_2_1 = np.concatenate((labels_all_2_1, labels_2_1), axis=0)\n",
    "    print(labels_all_2_1.shape)\n",
    "\n",
    "labels_all_2_1 = labels_all_2_1.astype(np.int32, copy=False)\n",
    "\n",
    "train_features, test_features, train_labels, test_labels = train_test_split(\n",
    "    data_reshaped_all_2_1, labels_all_2_1, test_size = 0.2, random_state = 42\n",
    ")"
   ]
  },
  {
   "cell_type": "markdown",
   "id": "ee9bf01b",
   "metadata": {
    "collapsed": false
   },
   "source": [
    "#### 训练模型\n",
    "##### 1. 网格搜索最优参数"
   ]
  },
  {
   "cell_type": "code",
   "execution_count": null,
   "id": "3401fd46",
   "metadata": {
    "collapsed": false,
    "pycharm": {
     "name": "#%%\n"
    }
   },
   "outputs": [],
   "source": [
    "train_dataset_2_1 = MyCustomDataset(train_features, train_labels)\n",
    "\n",
    "test_dataset_2_1 = MyCustomDataset(test_features, test_labels)\n",
    "test_loader_2_1 = DataLoader(test_dataset_2_1, batch_size = 20, shuffle = False)\n",
    "\n",
    "# 初始化网络\n",
    "input_size_2_1 = 20736 # 特征数量\n",
    "num_classes_2_1 = 10 # 类别数量\n",
    "\n",
    "\n",
    "# 定义参数网格\n",
    "param_grid_2_1 = {\n",
    "    'lr': [0.001, 0.002, 0.005, 0.01, 0.02, 0.05, 0.1],\n",
    "    'hidden_size': [128, 256, 512, 1024],\n",
    "    'batch_size': [10, 20, 30, 40, 50],\n",
    "    'num_epochs': [3, 5, 7, 9], # 训练的轮数\n",
    "    'dropout_rate': [0.1, 0.2, 0.3, 0.4, 0.5], \n",
    "    'weight_decay': [0.00001, 0.00005, 0.0001, 0.0005, 0.001]\n",
    "}\n",
    "\n",
    "# 用于记录最佳验证损失\n",
    "best_loss = float('inf')\n",
    "best_params = {}\n",
    "\n",
    "# 网格搜索\n",
    "for lr in param_grid_2_1['lr']:\n",
    "    for hidden_size in param_grid_2_1['hidden_size']:\n",
    "        for batch_size in param_grid_2_1['batch_size']:\n",
    "            for num_epochs in param_grid_2_1['num_epochs']:\n",
    "                for dropout_rate in param_grid_2_1['dropout_rate']:\n",
    "                    for weight_decay in param_grid_2_1['weight_decay']:\n",
    "                        print(\n",
    "                            f'Testing with lr = {lr},'\n",
    "                            f'hidden_size = {hidden_size},'\n",
    "                            f'batch_size = {batch_size},'\n",
    "                            f'num_epochs = {num_epochs},'\n",
    "                            f'dropout_rate = {dropout_rate},'\n",
    "                            f'weight_decay = {weight_decay}'\n",
    "                        )\n",
    "                        \n",
    "                        # 初始化网络、损失函数、优化器、加载训练数据\n",
    "                        model = MyNeuralNetwork(input_size_2_1, hidden_size, num_classes_2_1, dropout_rate).to(device)\n",
    "                        criterion = nn.CrossEntropyLoss()\n",
    "                        optimizer = optim.Adam(model.parameters(), lr = lr, weight_decay = weight_decay)\n",
    "                        train_loader_2_1 = DataLoader(train_dataset_2_1, batch_size = batch_size, shuffle = False)\n",
    "            \n",
    "                        # 训练网络\n",
    "                        for epoch in range(num_epochs):\n",
    "                            for features, labels in train_loader_2_1:\n",
    "                                features, labels = features.to(device), labels.to(device)\n",
    "                                # 清空梯度\n",
    "                                optimizer.zero_grad()\n",
    "                                # 前向传播\n",
    "                                outputs = model(features)\n",
    "                                # 计算损失\n",
    "                                loss = criterion(outputs, labels)\n",
    "                                # 反向传播\n",
    "                                loss.backward()\n",
    "                                # 更新权重\n",
    "                                optimizer.step()\n",
    "                            print(f\"Epoch[{epoch+1}/{num_epochs}], Loss:{loss.item():.4f}\")\n",
    "            \n",
    "                        # 评估模型\n",
    "                        model.eval()\n",
    "                        val_loss = 0.0\n",
    "                        with torch.no_grad():\n",
    "                            for features, labels in test_loader_2_1:\n",
    "                                features, labels = features.to(device), labels.to(device)\n",
    "                                outputs = model(features)\n",
    "                                loss = criterion(outputs, labels)\n",
    "                                val_loss += loss.item()\n",
    "            \n",
    "                        # 记录最佳参数\n",
    "                        if val_loss < best_loss:\n",
    "                            best_loss = val_loss\n",
    "                            best_params = {\n",
    "                                'lr': lr, \n",
    "                                'hidden_size': hidden_size, \n",
    "                                'batch_size': batch_size, \n",
    "                                'num_epochs': num_epochs, \n",
    "                                'dropout_rate': dropout_rate, \n",
    "                                'weight_decay': weight_decay\n",
    "                            }\n",
    "                            print(f\"New best params: {best_params}\")\n",
    "\n",
    "print(f\"Best loss: {best_loss} with params: {best_params}\")"
   ]
  },
  {
   "cell_type": "markdown",
   "id": "0c9c181f",
   "metadata": {
    "collapsed": false
   },
   "source": [
    "##### 2. 训练评估模型"
   ]
  },
  {
   "cell_type": "code",
   "execution_count": null,
   "id": "13fd8d01",
   "metadata": {
    "collapsed": false,
    "pycharm": {
     "name": "#%%\n"
    }
   },
   "outputs": [],
   "source": [
    "# 使用最佳参数重新训练模型\n",
    "best_lr = best_params['lr']\n",
    "best_hidden_size = best_params['hidden_size']\n",
    "best_batch_size = best_params['batch_size']\n",
    "best_num_epochs = best_params['num_epochs']\n",
    "best_dropout_rate = best_params['dropout_rate']\n",
    "best_weight_decay = best_params['weight_decay']\n",
    "\n",
    "best_accuracy = 0\n",
    "for i in range(10000):\n",
    "# 重新初始化网络、损失函数、优化器\n",
    "    model_2_1 = MyNeuralNetwork(input_size_2_1, best_hidden_size, num_classes_2_1, best_dropout_rate).to(device)\n",
    "    criterion = nn.CrossEntropyLoss()\n",
    "    optimizer = optim.Adam(model_2_1.parameters(), lr=best_lr, weight_decay = best_weight_decay)\n",
    "\n",
    "    # 使用最佳批量大小更新 DataLoader\n",
    "    train_loader_2_1 = DataLoader(train_dataset_2_1, batch_size = best_batch_size, shuffle = False)\n",
    "    test_loader_2_1 = DataLoader(test_dataset_2_1, batch_size = 20, shuffle = False)\n",
    "\n",
    "    # 然后使用更新后的参数重新执行训练和测试代码\n",
    "    for epoch in range(best_num_epochs):\n",
    "        for features, labels in train_loader_2_1:\n",
    "            features, labels = features.to(device), labels.to(device)\n",
    "            # 清空梯度\n",
    "            optimizer.zero_grad()\n",
    "            # 前向传播\n",
    "            outputs = model_2_1(features)\n",
    "            # 计算损失\n",
    "            loss = criterion(outputs, labels)\n",
    "            # 反向传播\n",
    "            loss.backward()\n",
    "            # 更新权重\n",
    "            optimizer.step()\n",
    "        print(f\"Epoch[{epoch+1}/{best_num_epochs}], Loss:{loss.item():.4f}\")\n",
    "\n",
    "\n",
    "    # 评估模型\n",
    "    model_2_1.eval()\n",
    "    with torch.no_grad():\n",
    "        correct = 0\n",
    "        total = 0\n",
    "        for features, labels in test_loader_2_1:\n",
    "            features, labels = features.to(device), labels.to(device)\n",
    "            outputs = model_2_1(features)\n",
    "            _, predicted = torch.max(outputs.data, 1)\n",
    "            total += labels.size(0)\n",
    "            correct += (predicted == labels).sum().item()\n",
    "            accuracy = 100 * correct / total\n",
    "\n",
    "    print(f'Accuracy of the network on the test data: {accuracy}%')\n",
    "    if accuracy > best_accuracy:\n",
    "        best_accuracy = accuracy\n",
    "        \n",
    "        # 将模型转移至CPU保存\n",
    "        model_2_1.to('cpu')\n",
    "        model_2_1_path = 'C:\\\\Users\\\\Zhen\\\\Desktop\\\\大学\\\\神经AI\\\\model_2_3s_fullchannel_20Hz+.pth'\n",
    "        torch.save(model_2_1, model_2_1_path)\n",
    "print(f'the best accuracy: {best_accuracy}')"
   ]
  },
  {
   "cell_type": "markdown",
   "id": "e2600bbf",
   "metadata": {
    "collapsed": false
   },
   "source": [
    "#### 加载使用模型\n",
    "##### 1. 加载模型"
   ]
  },
  {
   "cell_type": "code",
   "execution_count": 26,
   "id": "dc60a72c",
   "metadata": {
    "collapsed": false,
    "pycharm": {
     "name": "#%%\n"
    }
   },
   "outputs": [],
   "source": [
    "model_2_1_path = 'C:\\\\Users\\\\Zhen\\\\Desktop\\\\大学\\\\神经AI\\\\model_2_3s_fullchannel_20Hz+.pth'\n",
    "model_2_1 = torch.load(model_2_1_path)"
   ]
  },
  {
   "cell_type": "markdown",
   "id": "5ada2fef",
   "metadata": {
    "collapsed": false
   },
   "source": [
    "##### 用测试集评估模型"
   ]
  },
  {
   "cell_type": "code",
   "execution_count": 31,
   "id": "403b8034",
   "metadata": {
    "collapsed": false,
    "pycharm": {
     "name": "#%%\n"
    }
   },
   "outputs": [
    {
     "name": "stdout",
     "output_type": "stream",
     "text": [
      "Accuracy of the network on the test data: 75.0%\n"
     ]
    }
   ],
   "source": [
    "test_dataset_2_1 = MyCustomDataset(test_features, test_labels)\n",
    "test_loader_2_1 = DataLoader(test_dataset_2_1, batch_size = 20, shuffle = False)\n",
    "model_2_1.eval()\n",
    "with torch.no_grad():\n",
    "    correct = 0\n",
    "    total = 0\n",
    "    for features, labels in test_loader_2_1:\n",
    "        outputs = model_2_1(features)\n",
    "        _, predicted = torch.max(outputs.data, 1)\n",
    "        total += labels.size(0)\n",
    "        correct += (predicted == labels).sum().item()\n",
    "print(f'Accuracy of the network on the test data: {100 * correct / total}%')"
   ]
  },
  {
   "cell_type": "markdown",
   "id": "c8ea94d8",
   "metadata": {
    "collapsed": false
   },
   "source": [
    "##### 预测新数据（对新数据进行分类）"
   ]
  },
  {
   "cell_type": "code",
   "execution_count": null,
   "id": "585ad873",
   "metadata": {
    "collapsed": false,
    "pycharm": {
     "name": "#%%\n"
    }
   },
   "outputs": [],
   "source": [
    "feature_2_1 = '替换成输入的数据'\n",
    "#feature需要是一个包含20736个数的numpy数组\n",
    "\n",
    "model_2_1.eval()\n",
    "with torch.no_grad():\n",
    "    outputs = model_2_1(feature_2_1)\n",
    "    _, predicted = torch.max(outputs.data, 1)\n",
    "\n",
    "if predicted == 0:\n",
    "    print(\"else\")\n",
    "else:\n",
    "    print(reversed_good_list[predicted])"
   ]
  },
  {
   "cell_type": "markdown",
   "id": "3689ba8b",
   "metadata": {
    "collapsed": false
   },
   "source": [
    "### 2. 3秒，全通道，θ波段\n",
    "#### 1. 数据处理"
   ]
  },
  {
   "cell_type": "code",
   "execution_count": 32,
   "id": "dc53583d",
   "metadata": {
    "collapsed": false,
    "pycharm": {
     "name": "#%%\n"
    }
   },
   "outputs": [
    {
     "name": "stdout",
     "output_type": "stream",
     "text": [
      "(40, 7776)\n",
      "(40, 7776)\n",
      "(40,)\n",
      "(10, 7776)\n",
      "(50, 7776)\n",
      "(50,)\n",
      "(40, 7776)\n",
      "(90, 7776)\n",
      "(90,)\n",
      "(10, 7776)\n",
      "(100, 7776)\n",
      "(100,)\n"
     ]
    }
   ],
   "source": [
    "# 数据预处理\n",
    "data_reshaped_all_2_2 = np.zeros((0, 7776))\n",
    "labels_all_2_2 = np.array([])\n",
    "for i in range(1, 5):\n",
    "    data_2_2 = OSPerson_dict[f'OSPerson{i}']['OS'][-21:-5, 4:13, :, :]\n",
    "\n",
    "    # 首先使用transpose调整维度顺序\n",
    "    data_transposed_2_2 = np.transpose(data_2_2, (2, 0, 1, 3))  # 将第三维（大小为40的维度）移到最前面\n",
    "    # 然后将其余维度合并为一维\n",
    "    data_reshaped_2_2 = data_transposed_2_2.reshape(data_transposed_2_2.shape[0], -1)  # 重塑数据为二维数组\n",
    "    print(data_reshaped_2_2.shape)\n",
    "    # 16x9x54 = 7776\n",
    "    data_reshaped_all_2_2 = np.concatenate((data_reshaped_all_2_2, data_reshaped_2_2), axis=0)\n",
    "    print(data_reshaped_all_2_2.shape)\n",
    "    \n",
    "    # 创建标签数组x\n",
    "    labels_2_2 = np.array([0 if x > 10 else 1 for x in OSPerson_dict[f'OSPerson{i}']['Track'][0]])\n",
    "    labels_all_2_2 = np.concatenate((labels_all_2_2, labels_2_2), axis=0)\n",
    "    print(labels_all_2_2.shape)\n",
    "\n",
    "labels_all_2_2 = labels_all_2_2.astype(np.int32, copy=False)\n",
    "\n",
    "train_features, test_features, train_labels, test_labels = train_test_split(\n",
    "    data_reshaped_all_2_2, labels_all_2_2, test_size = 0.2, random_state = 42\n",
    ")"
   ]
  },
  {
   "cell_type": "markdown",
   "id": "a0f1719e",
   "metadata": {
    "collapsed": false
   },
   "source": [
    "#### 训练模型\n",
    "##### 1. 网格搜索最优参数"
   ]
  },
  {
   "cell_type": "code",
   "execution_count": null,
   "id": "d34fcc87",
   "metadata": {
    "collapsed": false,
    "pycharm": {
     "name": "#%%\n"
    }
   },
   "outputs": [],
   "source": [
    "train_dataset_2_2 = MyCustomDataset(train_features, train_labels)\n",
    "\n",
    "test_dataset_2_2 = MyCustomDataset(test_features, test_labels)\n",
    "test_loader_2_2 = DataLoader(test_dataset_2_2, batch_size = 20, shuffle = False)\n",
    "\n",
    "# 初始化网络\n",
    "input_size_2_2 = 7776 # 特征数量\n",
    "num_classes_2_2 = 10 # 类别数量\n",
    "\n",
    "\n",
    "# 定义参数网格\n",
    "param_grid_2_2 = {\n",
    "    'lr': [0.001, 0.002, 0.005, 0.01, 0.02, 0.05, 0.1],\n",
    "    'hidden_size': [128, 256, 512, 1024],\n",
    "    'batch_size': [10, 20, 30, 40, 50],\n",
    "    'num_epochs': [3, 5, 7, 9], # 训练的轮数\n",
    "    'dropout_rate': [0.1, 0.2, 0.3, 0.4, 0.5], \n",
    "    'weight_decay': [0.00001, 0.00005, 0.0001, 0.0005, 0.001]\n",
    "}\n",
    "\n",
    "# 用于记录最佳验证损失\n",
    "best_loss = float('inf')\n",
    "best_params = {}\n",
    "\n",
    "# 网格搜索\n",
    "for lr in param_grid_2_2['lr']:\n",
    "    for hidden_size in param_grid_2_2['hidden_size']:\n",
    "        for batch_size in param_grid_2_2['batch_size']:\n",
    "            for num_epochs in param_grid_2_2['num_epochs']:\n",
    "                for dropout_rate in param_grid_2_2['dropout_rate']:\n",
    "                    for weight_decay in param_grid_2_2['weight_decay']:\n",
    "                        print(\n",
    "                            f'Testing with lr = {lr},'\n",
    "                            f'hidden_size = {hidden_size},'\n",
    "                            f'batch_size = {batch_size},'\n",
    "                            f'num_epochs = {num_epochs},'\n",
    "                            f'dropout_rate = {dropout_rate},'\n",
    "                            f'weight_decay = {weight_decay}'\n",
    "                        )\n",
    "                        \n",
    "                        # 初始化网络、损失函数、优化器、加载训练数据\n",
    "                        model = MyNeuralNetwork(input_size_2_2, hidden_size, num_classes_2_2, dropout_rate).to(device)\n",
    "                        criterion = nn.CrossEntropyLoss()\n",
    "                        optimizer = optim.Adam(model.parameters(), lr = lr, weight_decay = weight_decay)\n",
    "                        train_loader_2_2 = DataLoader(train_dataset_2_2, batch_size = batch_size, shuffle = False)\n",
    "            \n",
    "                        # 训练网络\n",
    "                        for epoch in range(num_epochs):\n",
    "                            for features, labels in train_loader_2_2:\n",
    "                                features, labels = features.to(device), labels.to(device)\n",
    "                                # 清空梯度\n",
    "                                optimizer.zero_grad()\n",
    "                                # 前向传播\n",
    "                                outputs = model(features)\n",
    "                                # 计算损失\n",
    "                                loss = criterion(outputs, labels)\n",
    "                                # 反向传播\n",
    "                                loss.backward()\n",
    "                                # 更新权重\n",
    "                                optimizer.step()\n",
    "                            print(f\"Epoch[{epoch+1}/{num_epochs}], Loss:{loss.item():.4f}\")\n",
    "            \n",
    "                        # 评估模型\n",
    "                        model.eval()\n",
    "                        val_loss = 0.0\n",
    "                        with torch.no_grad():\n",
    "                            for features, labels in test_loader_2_2:\n",
    "                                features, labels = features.to(device), labels.to(device)\n",
    "                                outputs = model(features)\n",
    "                                loss = criterion(outputs, labels)\n",
    "                                val_loss += loss.item()\n",
    "            \n",
    "                        # 记录最佳参数\n",
    "                        if val_loss < best_loss:\n",
    "                            best_loss = val_loss\n",
    "                            best_params = {\n",
    "                                'lr': lr, \n",
    "                                'hidden_size': hidden_size, \n",
    "                                'batch_size': batch_size, \n",
    "                                'num_epochs': num_epochs, \n",
    "                                'dropout_rate': dropout_rate, \n",
    "                                'weight_decay': weight_decay\n",
    "                            }\n",
    "                            print(f\"New best params: {best_params}\")\n",
    "                            best_model = model\n",
    "print(f\"Best loss: {best_loss} with params: {best_params}\")"
   ]
  },
  {
   "cell_type": "markdown",
   "id": "43d68074",
   "metadata": {
    "collapsed": false
   },
   "source": [
    "##### 2. 训练评估模型"
   ]
  },
  {
   "cell_type": "code",
   "execution_count": null,
   "id": "8e727545",
   "metadata": {
    "collapsed": false,
    "pycharm": {
     "name": "#%%\n"
    }
   },
   "outputs": [],
   "source": [
    "# 使用最佳参数重新训练模型\n",
    "best_lr = best_params['lr']\n",
    "best_hidden_size = best_params['hidden_size']\n",
    "best_batch_size = best_params['batch_size']\n",
    "best_num_epochs = best_params['num_epochs']\n",
    "best_dropout_rate = best_params['dropout_rate']\n",
    "best_weight_decay = best_params['weight_decay']\n",
    "\n",
    "best_accuracy = 0\n",
    "for i in range(10000):\n",
    "    # 重新初始化网络、损失函数、优化器\n",
    "    model_2_2 = MyNeuralNetwork(input_size_2_2, best_hidden_size, num_classes_2_2, best_dropout_rate).to(device)\n",
    "    criterion = nn.CrossEntropyLoss()\n",
    "    optimizer = optim.Adam(model_2_2.parameters(), lr=best_lr, weight_decay = best_weight_decay)\n",
    "\n",
    "    # 使用最佳批量大小更新 DataLoader\n",
    "    train_loader_2_2 = DataLoader(train_dataset_2_2, batch_size = best_batch_size, shuffle = False)\n",
    "    test_loader_2_2 = DataLoader(test_dataset_2_2, batch_size = 20, shuffle = False)\n",
    "\n",
    "    # 然后使用更新后的参数重新执行训练和测试代码\n",
    "    for epoch in range(best_num_epochs):\n",
    "        for features, labels in train_loader_2_2:\n",
    "            features, labels = features.to(device), labels.to(device)\n",
    "            # 清空梯度\n",
    "            optimizer.zero_grad()\n",
    "            # 前向传播\n",
    "            outputs = model_2_2(features)\n",
    "            # 计算损失\n",
    "            loss = criterion(outputs, labels)\n",
    "            # 反向传播\n",
    "            loss.backward()\n",
    "            # 更新权重\n",
    "            optimizer.step()\n",
    "        print(f\"Epoch[{epoch+1}/{num_epochs}], Loss:{loss.item():.4f}\")\n",
    "\n",
    "\n",
    "    # 评估模型\n",
    "    model_2_2.eval()\n",
    "    with torch.no_grad():\n",
    "        correct = 0\n",
    "        total = 0\n",
    "        for features, labels in test_loader_2_2:\n",
    "            features, labels = features.to(device), labels.to(device)\n",
    "            outputs = model_2_2(features)\n",
    "            _, predicted = torch.max(outputs.data, 1)\n",
    "            total += labels.size(0)\n",
    "            correct += (predicted == labels).sum().item()\n",
    "            accuracy = 100 * correct / total\n",
    "\n",
    "    print(f'Accuracy of the network on the test data: {accuracy}%')\n",
    "    if accuracy > best_accuracy:\n",
    "        best_accuracy = accuracy\n",
    "        \n",
    "        # 将模型转移至CPU保存\n",
    "        model_2_2.to('cpu')\n",
    "        model_2_2_path = 'C:\\\\Users\\\\Zhen\\\\Desktop\\\\大学\\\\神经AI\\\\model_2_3s_fullchannel_theta.pth'\n",
    "        torch.save(model_2_2, model_2_2_path)\n",
    "print(f'the best accuracy: {best_accuracy}')"
   ]
  },
  {
   "cell_type": "markdown",
   "id": "3c2c8903",
   "metadata": {},
   "source": [
    "*与最佳参数相同的模型"
   ]
  },
  {
   "cell_type": "code",
   "execution_count": null,
   "id": "501492a9",
   "metadata": {},
   "outputs": [],
   "source": [
    "# 评估模型\n",
    "best_model.eval()\n",
    "with torch.no_grad():\n",
    "    correct = 0\n",
    "    total = 0\n",
    "    for features, labels in test_loader_2_2:\n",
    "        features, labels = features.to(device), labels.to(device)\n",
    "        outputs = best_model(features)\n",
    "        _, predicted = torch.max(outputs.data, 1)\n",
    "        total += labels.size(0)\n",
    "        correct += (predicted == labels).sum().item()\n",
    "        accuracy = 100 * correct / total\n",
    "\n",
    "print(f'Accuracy of the network on the test data: {accuracy}%')\n",
    "\n",
    "    \n",
    "#     # 将模型转移至CPU保存\n",
    "#     model_2_2.to('cpu')\n",
    "#     model_2_2_path = 'C:\\\\Users\\\\Zhen\\\\Desktop\\\\大学\\\\神经AI\\\\model_2_3s_fullchannel_theta.pth'\n",
    "#     torch.save(model_2_2, model_2_2_path)\n",
    "# print(f'the best accuracy: {best_accuracy}')"
   ]
  },
  {
   "cell_type": "markdown",
   "id": "b3ea0558",
   "metadata": {
    "collapsed": false
   },
   "source": [
    "#### 加载使用模型\n",
    "##### 1. 加载模型"
   ]
  },
  {
   "cell_type": "code",
   "execution_count": 33,
   "id": "2b28d24c",
   "metadata": {
    "collapsed": false,
    "pycharm": {
     "name": "#%%\n"
    }
   },
   "outputs": [],
   "source": [
    "model_2_2_path = 'C:\\\\Users\\\\Zhen\\\\Desktop\\\\大学\\\\神经AI\\\\model_2_3s_fullchannel_theta.pth'\n",
    "model_2_2 = torch.load(model_2_2_path)"
   ]
  },
  {
   "cell_type": "markdown",
   "id": "c27fa94b",
   "metadata": {
    "collapsed": false
   },
   "source": [
    "##### 用测试集评估模型"
   ]
  },
  {
   "cell_type": "code",
   "execution_count": 34,
   "id": "1f672dac",
   "metadata": {
    "collapsed": false,
    "pycharm": {
     "name": "#%%\n"
    }
   },
   "outputs": [
    {
     "name": "stdout",
     "output_type": "stream",
     "text": [
      "Accuracy of the network on the test data: 80.0%\n"
     ]
    }
   ],
   "source": [
    "test_dataset_2_2 = MyCustomDataset(test_features, test_labels)\n",
    "test_loader_2_2 = DataLoader(test_dataset_2_2, batch_size = 20, shuffle = False)\n",
    "model_2_2.eval()\n",
    "with torch.no_grad():\n",
    "    correct = 0\n",
    "    total = 0\n",
    "    for features, labels in test_loader_2_2:\n",
    "        outputs = model_2_2(features)\n",
    "        _, predicted = torch.max(outputs.data, 1)\n",
    "        total += labels.size(0)\n",
    "        correct += (predicted == labels).sum().item()\n",
    "print(f'Accuracy of the network on the test data: {100 * correct / total}%')"
   ]
  },
  {
   "cell_type": "markdown",
   "id": "a38fbda7",
   "metadata": {
    "collapsed": false
   },
   "source": [
    "##### 预测新数据（对新数据进行分类）"
   ]
  },
  {
   "cell_type": "code",
   "execution_count": null,
   "id": "785e96c4",
   "metadata": {
    "collapsed": false,
    "pycharm": {
     "name": "#%%\n"
    }
   },
   "outputs": [],
   "source": [
    "feature_2_2 = '替换成输入的数据'\n",
    "#feature需要是一个包含7776个数的numpy数组\n",
    "\n",
    "model_2_2.eval()\n",
    "with torch.no_grad():\n",
    "    outputs = model_2_2(feature_2_2)\n",
    "    _, predicted = torch.max(outputs.data, 1)\n",
    "\n",
    "if predicted == 0:\n",
    "    print(\"else\")\n",
    "else:\n",
    "    print(reversed_good_list[predicted])"
   ]
  },
  {
   "cell_type": "markdown",
   "id": "48f52bfb",
   "metadata": {},
   "source": [
    "# 2. 神经流形分析"
   ]
  },
  {
   "cell_type": "markdown",
   "id": "bd3fd385",
   "metadata": {},
   "source": [
    "## 1. 导入UMAP"
   ]
  },
  {
   "cell_type": "code",
   "execution_count": 6,
   "id": "7e8dd66f",
   "metadata": {},
   "outputs": [],
   "source": [
    "import umap\n",
    "import matplotlib.pyplot as plt\n",
    "from sklearn.cluster import KMeans\n",
    "from sklearn.metrics import silhouette_score, davies_bouldin_score, calinski_harabasz_score"
   ]
  },
  {
   "cell_type": "markdown",
   "id": "dd279755",
   "metadata": {},
   "source": [
    "## 2. 二分类"
   ]
  },
  {
   "cell_type": "markdown",
   "id": "40870025",
   "metadata": {},
   "source": [
    "### 1. 3秒，全通道，20Hz+\n",
    "#### 1. 数据处理"
   ]
  },
  {
   "cell_type": "code",
   "execution_count": 7,
   "id": "b8973623",
   "metadata": {},
   "outputs": [
    {
     "name": "stdout",
     "output_type": "stream",
     "text": [
      "(40, 20736)\n",
      "(40, 20736)\n",
      "(10, 20736)\n",
      "(50, 20736)\n",
      "(40, 20736)\n",
      "(90, 20736)\n",
      "(10, 20736)\n",
      "(100, 20736)\n"
     ]
    }
   ],
   "source": [
    "# 数据预处理\n",
    "data_reshaped_all_1 = np.zeros((0, 20736))\n",
    "# 16x24x54 =20736\n",
    "labels_all_1 = np.array([])\n",
    "for i in range(1, 5):\n",
    "    data_1 = OSPerson_dict[f'OSPerson{i}']['OS'][-21:-5, 28:, :, :]\n",
    "\n",
    "    # 首先使用transpose调整维度顺序\n",
    "    data_transposed_1 = np.transpose(data_1, (2, 0, 1, 3))  # 将第三维（大小为40的维度）移到最前面\n",
    "    # 然后将其余维度合并为一维\n",
    "    data_reshaped_1 = data_transposed_1.reshape(data_transposed_1.shape[0], -1)  # 重塑数据为二维数组\n",
    "    print(data_reshaped_1.shape)\n",
    "    \n",
    "    data_reshaped_all_1 = np.concatenate((data_reshaped_all_1, data_reshaped_1), axis=0)\n",
    "    print(data_reshaped_all_1.shape)"
   ]
  },
  {
   "cell_type": "markdown",
   "id": "4e746500",
   "metadata": {},
   "source": [
    "#### 2. 流形学习\n",
    "##### 1. 网格搜索最佳参数"
   ]
  },
  {
   "cell_type": "code",
   "execution_count": 8,
   "id": "bb36920b",
   "metadata": {},
   "outputs": [
    {
     "name": "stdout",
     "output_type": "stream",
     "text": [
      "test with n_neighbors: 10, metric: euclidean\n",
      "Silhouette Coefficient:  0.664892\n",
      "Davies-Bouldin Index:  0.5290535896271918\n",
      "Calinski-Harabasz Index:  138.4515078868739\n",
      "test with n_neighbors: 12, metric: euclidean\n",
      "Silhouette Coefficient:  0.8090427\n",
      "Davies-Bouldin Index:  0.3511598839472035\n",
      "Calinski-Harabasz Index:  492.1597551271465\n",
      "test with n_neighbors: 15, metric: euclidean\n",
      "Silhouette Coefficient:  0.71744055\n",
      "Davies-Bouldin Index:  0.26530059650661275\n",
      "Calinski-Harabasz Index:  125.61837549671147\n",
      "test with n_neighbors: 20, metric: euclidean\n",
      "Silhouette Coefficient:  0.70124054\n",
      "Davies-Bouldin Index:  0.6398294041255972\n",
      "Calinski-Harabasz Index:  145.48169682482612\n",
      "test with n_neighbors: 22, metric: euclidean\n",
      "Silhouette Coefficient:  0.6388913\n",
      "Davies-Bouldin Index:  0.5962151887259897\n",
      "Calinski-Harabasz Index:  111.59132814238576\n",
      "test with n_neighbors: 25, metric: euclidean\n",
      "Silhouette Coefficient:  0.85148793\n",
      "Davies-Bouldin Index:  0.2443282089577404\n",
      "Calinski-Harabasz Index:  1044.540757369514\n",
      "test with n_neighbors: 10, metric: cosine\n",
      "Silhouette Coefficient:  0.62980443\n",
      "Davies-Bouldin Index:  0.6311827161475163\n",
      "Calinski-Harabasz Index:  61.69898341193413\n",
      "test with n_neighbors: 12, metric: cosine\n",
      "Silhouette Coefficient:  0.7466744\n",
      "Davies-Bouldin Index:  0.3290422439958169\n",
      "Calinski-Harabasz Index:  303.04584359995965\n",
      "test with n_neighbors: 15, metric: cosine\n",
      "Silhouette Coefficient:  0.7584108\n",
      "Davies-Bouldin Index:  0.42076067172799203\n",
      "Calinski-Harabasz Index:  339.4014143421844\n",
      "test with n_neighbors: 20, metric: cosine\n",
      "Silhouette Coefficient:  0.78437716\n",
      "Davies-Bouldin Index:  0.41746070206910885\n",
      "Calinski-Harabasz Index:  322.52248699364173\n",
      "test with n_neighbors: 22, metric: cosine\n",
      "Silhouette Coefficient:  0.73160446\n",
      "Davies-Bouldin Index:  0.397598555802846\n",
      "Calinski-Harabasz Index:  211.86934349124041\n",
      "test with n_neighbors: 25, metric: cosine\n",
      "Silhouette Coefficient:  0.7180366\n",
      "Davies-Bouldin Index:  0.5334073943209006\n",
      "Calinski-Harabasz Index:  221.1723622326461\n",
      "best score: 2.50041158322744 with best params: {'n_neighbors': 20, 'metric': 'euclidean'}\n"
     ]
    }
   ],
   "source": [
    "param_grid_1 = {\n",
    "    'n_neighbors': [10, 12, 15, 20, 22, 25], \n",
    "    'metric': ['euclidean', 'cosine']\n",
    "}\n",
    "best_params_1 = {}\n",
    "best_score_1 = 0\n",
    "for metric in param_grid_1['metric']:\n",
    "    for n_neighbors in param_grid_1['n_neighbors']:\n",
    "        print(f'test with n_neighbors: {n_neighbors}, metric: {metric}')\n",
    "        # 初始化UMAP\n",
    "        umap_model = umap.UMAP(n_neighbors=n_neighbors, n_components=3, metric=metric, random_state=None)\n",
    "        # 拟合模型\n",
    "        embedding = umap_model.fit_transform(data_reshaped_all_1)\n",
    "        # 使用KMeans进行聚类\n",
    "        kmeans = KMeans(n_clusters=2, random_state=42)\n",
    "        labels = kmeans.fit_predict(embedding)\n",
    "\n",
    "        # 计算轮廓系数\n",
    "        silhouette_avg = silhouette_score(embedding, labels)\n",
    "        print(\"Silhouette Coefficient: \", silhouette_avg)\n",
    "\n",
    "        # 计算戴维斯-布老德指数\n",
    "        dbi = davies_bouldin_score(embedding, labels)\n",
    "        print(\"Davies-Bouldin Index: \", dbi)\n",
    "\n",
    "        # 计算Calinski-Harabasz指数\n",
    "        ch = calinski_harabasz_score(embedding, labels)\n",
    "        print(\"Calinski-Harabasz Index: \", ch)\n",
    "\n",
    "        score = 1 / (1 + np.exp(-1 - silhouette_avg)) + 1 / (1 + np.exp(- dbi)) + 1 / (1 + np.exp(-ch))\n",
    "        if score > best_score_1:\n",
    "            best_score_1 = score\n",
    "            best_params_1 = {'n_neighbors': n_neighbors, 'metric': metric}\n",
    "\n",
    "print(f'best score: {best_score_1} with best params: {best_params_1}')\n"
   ]
  },
  {
   "cell_type": "markdown",
   "id": "50d6c0b0",
   "metadata": {},
   "source": [
    "##### 2. 用最佳参数降维"
   ]
  },
  {
   "cell_type": "code",
   "execution_count": 9,
   "id": "36dcab3c",
   "metadata": {},
   "outputs": [
    {
     "name": "stdout",
     "output_type": "stream",
     "text": [
      "Silhouette Coefficient:  0.79650545\n",
      "Davies-Bouldin Index:  0.2948949097668981\n",
      "Calinski-Harabasz Index:  406.96850858694427\n",
      "2.4309170766694788\n",
      "Silhouette Coefficient:  0.64978266\n",
      "Davies-Bouldin Index:  0.5784321390982767\n",
      "Calinski-Harabasz Index:  120.36426698917917\n",
      "2.479568235643242\n",
      "Silhouette Coefficient:  0.66053843\n",
      "Davies-Bouldin Index:  0.7646009123050207\n",
      "Calinski-Harabasz Index:  104.84869425989484\n",
      "2.522662075407144\n",
      "Silhouette Coefficient:  0.73964715\n",
      "Davies-Bouldin Index:  0.4388839507579853\n",
      "Calinski-Harabasz Index:  194.72321463040797\n",
      "Silhouette Coefficient:  0.73349947\n",
      "Davies-Bouldin Index:  0.5440811496469743\n",
      "Calinski-Harabasz Index:  207.49123687022487\n",
      "Silhouette Coefficient:  0.6596249\n",
      "Davies-Bouldin Index:  0.6898968284689033\n",
      "Calinski-Harabasz Index:  109.21055088248421\n",
      "Silhouette Coefficient:  0.66264176\n",
      "Davies-Bouldin Index:  0.7674114276909219\n",
      "Calinski-Harabasz Index:  129.16540572699043\n",
      "2.523552977467525\n",
      "Silhouette Coefficient:  0.7850063\n",
      "Davies-Bouldin Index:  0.4128096093483693\n",
      "Calinski-Harabasz Index:  360.70704361362374\n",
      "Silhouette Coefficient:  0.76789474\n",
      "Davies-Bouldin Index:  0.2703135827332229\n",
      "Calinski-Harabasz Index:  380.7501123778784\n",
      "Silhouette Coefficient:  0.8045734\n",
      "Davies-Bouldin Index:  0.25457445478353347\n",
      "Calinski-Harabasz Index:  417.09852341594615\n",
      "the best best score: 2.523552977467525\n"
     ]
    }
   ],
   "source": [
    "best_best_score_1 = 0\n",
    "for i in range(10):     \n",
    "    # 初始化UMAP\n",
    "    umap_model = umap.UMAP(n_neighbors=best_params_1['n_neighbors'], n_components=3, metric=best_params_1['metric'], random_state=None)\n",
    "    # 拟合模型\n",
    "    embedding = umap_model.fit_transform(data_reshaped_all_1)\n",
    "\n",
    "    # 使用KMeans进行聚类\n",
    "    kmeans = KMeans(n_clusters=2, random_state=42)\n",
    "    labels = kmeans.fit_predict(embedding)\n",
    "\n",
    "    # 计算轮廓系数\n",
    "    silhouette_avg = silhouette_score(embedding, labels)\n",
    "    print(\"Silhouette Coefficient: \", silhouette_avg)\n",
    "\n",
    "    # 计算戴维斯-布老德指数\n",
    "    dbi = davies_bouldin_score(embedding, labels)\n",
    "    print(\"Davies-Bouldin Index: \", dbi)\n",
    "\n",
    "    # 计算Calinski-Harabasz指数\n",
    "    ch = calinski_harabasz_score(embedding, labels)\n",
    "    print(\"Calinski-Harabasz Index: \", ch)\n",
    "\n",
    "    score = 1 / (1 + np.exp(-1 - silhouette_avg)) + 1 / (1 + np.exp(- dbi)) + 1 / (1 + np.exp(-ch))\n",
    "    if score > best_best_score_1:\n",
    "        best_best_score_1 = score\n",
    "        print(best_best_score_1)\n",
    "        best_embedding_1 = embedding\n",
    "print(f'the best best score: {best_best_score_1}')\n"
   ]
  },
  {
   "cell_type": "markdown",
   "id": "3d2899c4",
   "metadata": {},
   "source": [
    "#### 3. 可视化"
   ]
  },
  {
   "cell_type": "code",
   "execution_count": 11,
   "id": "41b9a192",
   "metadata": {},
   "outputs": [
    {
     "data": {
      "image/png": "[encoded data removed]",
      "text/plain": [
       "<Figure size 640x480 with 1 Axes>"
      ]
     },
     "metadata": {},
     "output_type": "display_data"
    }
   ],
   "source": [
    "# 创建一个新的图形实例\n",
    "fig = plt.figure()\n",
    "\n",
    "# 添加一个三维坐标轴\n",
    "ax = fig.add_subplot(111, projection='3d')\n",
    "\n",
    "# 可视化结果\n",
    "ax.scatter(best_embedding_1[:, 0], best_embedding_1[:, 1], best_embedding_1[:, 2], s=5)\n",
    "ax.set_title('UMAP Projection of Flattened Data')\n",
    "ax.set_xlabel('UMAP Component 1')\n",
    "ax.set_ylabel('UMAP Component 2')\n",
    "ax.set_zlabel('UMAP Component 3')\n",
    "plt.show()"
   ]
  },
  {
   "cell_type": "markdown",
   "id": "d18ea08f",
   "metadata": {},
   "source": [
    "### 2. 3秒，全通道，θ波段\n",
    "#### 1. 数据处理"
   ]
  },
  {
   "cell_type": "code",
   "execution_count": 12,
   "id": "2108b9fe",
   "metadata": {},
   "outputs": [
    {
     "name": "stdout",
     "output_type": "stream",
     "text": [
      "(40, 7776)\n",
      "(40, 7776)\n",
      "(10, 7776)\n",
      "(50, 7776)\n",
      "(40, 7776)\n",
      "(90, 7776)\n",
      "(10, 7776)\n",
      "(100, 7776)\n"
     ]
    }
   ],
   "source": [
    "# 数据预处理\n",
    "data_reshaped_all_2 = np.zeros((0, 7776))\n",
    "labels_all_2 = np.array([])\n",
    "for i in range(1, 5):\n",
    "    data_2 = OSPerson_dict[f'OSPerson{i}']['OS'][-21:-5, 4:13, :, :]\n",
    "\n",
    "    # 首先使用transpose调整维度顺序\n",
    "    data_transposed_2 = np.transpose(data_2, (2, 0, 1, 3))  # 将第三维（大小为40的维度）移到最前面\n",
    "    # 然后将其余维度合并为一维\n",
    "    data_reshaped_2 = data_transposed_2.reshape(data_transposed_2.shape[0], -1)  # 重塑数据为二维数组\n",
    "    print(data_reshaped_2.shape)\n",
    "    # 16x9x54 = 7776\n",
    "    data_reshaped_all_2 = np.concatenate((data_reshaped_all_2, data_reshaped_2), axis=0)\n",
    "    print(data_reshaped_all_2.shape)"
   ]
  },
  {
   "cell_type": "markdown",
   "id": "fb02f08d",
   "metadata": {},
   "source": [
    "#### 2. 流形学习\n",
    "##### 1. 网格搜索最佳参数"
   ]
  },
  {
   "cell_type": "code",
   "execution_count": 23,
   "id": "4bfd55fe",
   "metadata": {},
   "outputs": [
    {
     "name": "stdout",
     "output_type": "stream",
     "text": [
      "test with n_neighbors: 10, metric: euclidean\n",
      "Silhouette Coefficient:  0.9286504\n",
      "Davies-Bouldin Index:  0.06706029078417385\n",
      "Calinski-Harabasz Index:  2831.0437573725685\n",
      "test with n_neighbors: 12, metric: euclidean\n",
      "Silhouette Coefficient:  0.83850205\n",
      "Davies-Bouldin Index:  0.1500059148590391\n",
      "Calinski-Harabasz Index:  563.5658304799092\n",
      "test with n_neighbors: 15, metric: euclidean\n",
      "Silhouette Coefficient:  0.75505495\n",
      "Davies-Bouldin Index:  0.22654448375485137\n",
      "Calinski-Harabasz Index:  244.25834635886883\n",
      "test with n_neighbors: 20, metric: euclidean\n",
      "Silhouette Coefficient:  0.724947\n",
      "Davies-Bouldin Index:  0.2559537501820683\n",
      "Calinski-Harabasz Index:  200.33107686307457\n",
      "test with n_neighbors: 22, metric: euclidean\n",
      "Silhouette Coefficient:  0.45918837\n",
      "Davies-Bouldin Index:  0.8852334591110611\n",
      "Calinski-Harabasz Index:  97.76563441522235\n",
      "test with n_neighbors: 25, metric: euclidean\n",
      "Silhouette Coefficient:  0.45398054\n",
      "Davies-Bouldin Index:  0.879605095840708\n",
      "Calinski-Harabasz Index:  98.00503376163883\n",
      "best score: 2.51931405433653 with best params: {'n_neighbors': 22, 'metric': 'euclidean'}\n"
     ]
    }
   ],
   "source": [
    "param_grid_2 = {\n",
    "    'n_neighbors': [10, 12, 15, 20, 22, 25], \n",
    "    'metric': ['euclidean']\n",
    "}\n",
    "best_params_2 = {}\n",
    "best_score_2 = 0\n",
    "for metric in param_grid_2['metric']:\n",
    "    for n_neighbors in param_grid_2['n_neighbors']:\n",
    "        print(f'test with n_neighbors: {n_neighbors}, metric: {metric}')\n",
    "        # 初始化UMAP\n",
    "        umap_model = umap.UMAP(n_neighbors=n_neighbors, n_components=3, metric=metric, random_state=None)\n",
    "        # 拟合模型\n",
    "        embedding = umap_model.fit_transform(data_reshaped_all_2)\n",
    "        # 使用KMeans进行聚类\n",
    "        kmeans = KMeans(n_clusters=2, random_state=42)\n",
    "        labels = kmeans.fit_predict(embedding)\n",
    "\n",
    "        # 计算轮廓系数\n",
    "        silhouette_avg = silhouette_score(embedding, labels)\n",
    "        print(\"Silhouette Coefficient: \", silhouette_avg)\n",
    "\n",
    "        # 计算戴维斯-布老德指数\n",
    "        dbi = davies_bouldin_score(embedding, labels)\n",
    "        print(\"Davies-Bouldin Index: \", dbi)\n",
    "\n",
    "        # 计算Calinski-Harabasz指数\n",
    "        ch = calinski_harabasz_score(embedding, labels)\n",
    "        print(\"Calinski-Harabasz Index: \", ch)\n",
    "\n",
    "        score = 1 / (1 + np.exp(-1 - silhouette_avg)) + 1 / (1 + np.exp(- dbi)) + 1 / (1 + np.exp(-ch))\n",
    "        if score > best_score_2:\n",
    "            best_score_2 = score\n",
    "            best_params_2 = {'n_neighbors': n_neighbors, 'metric': metric}\n",
    "\n",
    "print(f'best score: {best_score_2} with best params: {best_params_2}')\n"
   ]
  },
  {
   "cell_type": "markdown",
   "id": "96a83c0c",
   "metadata": {},
   "source": [
    "##### 2. 用最佳参数降维"
   ]
  },
  {
   "cell_type": "code",
   "execution_count": 24,
   "id": "50d0e1b4",
   "metadata": {},
   "outputs": [
    {
     "name": "stdout",
     "output_type": "stream",
     "text": [
      "Silhouette Coefficient:  0.46906126\n",
      "Davies-Bouldin Index:  0.910402135227701\n",
      "Calinski-Harabasz Index:  88.9890909411333\n",
      "2.525997104561352\n",
      "Silhouette Coefficient:  0.71646696\n",
      "Davies-Bouldin Index:  0.26391353387007666\n",
      "Calinski-Harabasz Index:  187.6163415405883\n",
      "Silhouette Coefficient:  0.61871713\n",
      "Davies-Bouldin Index:  0.3619802758800551\n",
      "Calinski-Harabasz Index:  97.11108478264286\n",
      "Silhouette Coefficient:  0.6849377\n",
      "Davies-Bouldin Index:  0.2910251560771143\n",
      "Calinski-Harabasz Index:  155.90754404161805\n",
      "Silhouette Coefficient:  0.45803857\n",
      "Davies-Bouldin Index:  0.8530926207049462\n",
      "Calinski-Harabasz Index:  100.9297525274509\n",
      "Silhouette Coefficient:  0.7656289\n",
      "Davies-Bouldin Index:  0.21901591436333165\n",
      "Calinski-Harabasz Index:  270.0848799140462\n",
      "Silhouette Coefficient:  0.70205724\n",
      "Davies-Bouldin Index:  0.2730252257508661\n",
      "Calinski-Harabasz Index:  173.15017966848524\n",
      "Silhouette Coefficient:  0.69282377\n",
      "Davies-Bouldin Index:  0.2868168224866472\n",
      "Calinski-Harabasz Index:  157.80353844556936\n",
      "Silhouette Coefficient:  0.6692625\n",
      "Davies-Bouldin Index:  0.3101451674481354\n",
      "Calinski-Harabasz Index:  133.59653890460294\n",
      "Silhouette Coefficient:  0.6510149\n",
      "Davies-Bouldin Index:  0.3254342327562126\n",
      "Calinski-Harabasz Index:  121.01766447776319\n",
      "the best best score: 2.525997104561352\n"
     ]
    }
   ],
   "source": [
    "best_best_score_2 = 0\n",
    "for i in range(10):     \n",
    "    # 初始化UMAP\n",
    "    umap_model = umap.UMAP(n_neighbors=best_params_2['n_neighbors'], n_components=3, metric=best_params_2['metric'], random_state=None)\n",
    "    # 拟合模型\n",
    "    embedding = umap_model.fit_transform(data_reshaped_all_2)\n",
    "\n",
    "    # 使用KMeans进行聚类\n",
    "    kmeans = KMeans(n_clusters=2, random_state=42)\n",
    "    labels = kmeans.fit_predict(embedding)\n",
    "\n",
    "    # 计算轮廓系数\n",
    "    silhouette_avg = silhouette_score(embedding, labels)\n",
    "    print(\"Silhouette Coefficient: \", silhouette_avg)\n",
    "\n",
    "    # 计算戴维斯-布老德指数\n",
    "    dbi = davies_bouldin_score(embedding, labels)\n",
    "    print(\"Davies-Bouldin Index: \", dbi)\n",
    "\n",
    "    # 计算Calinski-Harabasz指数\n",
    "    ch = calinski_harabasz_score(embedding, labels)\n",
    "    print(\"Calinski-Harabasz Index: \", ch)\n",
    "\n",
    "    score = 1 / (1 + np.exp(-1 - silhouette_avg)) + 1 / (1 + np.exp(- dbi)) + 1 / (1 + np.exp(-ch))\n",
    "    if score > best_best_score_2:\n",
    "        best_best_score_2 = score\n",
    "        print(best_best_score_2)\n",
    "        best_embedding_2 = embedding\n",
    "print(f'the best best score: {best_best_score_2}')\n"
   ]
  },
  {
   "cell_type": "markdown",
   "id": "a6161ebb",
   "metadata": {},
   "source": [
    "#### 3. 可视化"
   ]
  },
  {
   "cell_type": "code",
   "execution_count": 25,
   "id": "a1dc6320",
   "metadata": {},
   "outputs": [
    {
     "data": {
      "image/png": "[encoded data removed]",
      "text/plain": [
       "<Figure size 640x480 with 1 Axes>"
      ]
     },
     "metadata": {},
     "output_type": "display_data"
    }
   ],
   "source": [
    "# 创建一个新的图形实例\n",
    "fig = plt.figure()\n",
    "\n",
    "# 添加一个三维坐标轴\n",
    "ax = fig.add_subplot(111, projection='3d')\n",
    "\n",
    "# 可视化结果\n",
    "ax.scatter(best_embedding_2[:, 0], best_embedding_2[:, 1], best_embedding_2[:, 2], s=5)\n",
    "ax.set_title('UMAP Projection of Flattened Data')\n",
    "ax.set_xlabel('UMAP Component 1')\n",
    "ax.set_ylabel('UMAP Component 2')\n",
    "ax.set_zlabel('UMAP Component 3')\n",
    "plt.show()"
   ]
  }
 ],
 "metadata": {
  "kernelspec": {
   "display_name": "Python 3 (ipykernel)",
   "language": "python",
   "name": "python3"
  },
  "language_info": {
   "codemirror_mode": {
    "name": "ipython",
    "version": 3
   },
   "file_extension": ".py",
   "mimetype": "text/x-python",
   "name": "python",
   "nbconvert_exporter": "python",
   "pygments_lexer": "ipython3",
   "version": "3.9.0"
  }
 },
 "nbformat": 4,
 "nbformat_minor": 5
}
